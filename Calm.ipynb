{
 "cells": [
  {
   "cell_type": "code",
   "execution_count": 2,
   "id": "5fa66142",
   "metadata": {},
   "outputs": [
    {
     "name": "stdout",
     "output_type": "stream",
     "text": [
      "Enter First Number: 5\n",
      "Enter Second Number: 2\n",
      "The sum is:  10\n"
     ]
    }
   ],
   "source": [
    "x = input(\"Enter First Number: \")\n",
    "y = input(\"Enter Second Number: \")\n",
    "\n",
    "sum = int(x) * int(y)\n",
    "\n",
    "print(\"The sum is: \", sum)"
   ]
  },
  {
   "cell_type": "code",
   "execution_count": null,
   "id": "f8f49e2d",
   "metadata": {},
   "outputs": [],
   "source": []
  }
 ],
 "metadata": {
  "kernelspec": {
   "display_name": "Python 3 (ipykernel)",
   "language": "python",
   "name": "python3"
  },
  "language_info": {
   "codemirror_mode": {
    "name": "ipython",
    "version": 3
   },
   "file_extension": ".py",
   "mimetype": "text/x-python",
   "name": "python",
   "nbconvert_exporter": "python",
   "pygments_lexer": "ipython3",
   "version": "3.9.7"
  }
 },
 "nbformat": 4,
 "nbformat_minor": 5
}
